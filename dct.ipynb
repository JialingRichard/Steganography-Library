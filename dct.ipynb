{
 "cells": [
  {
   "cell_type": "code",
   "execution_count": 1,
   "metadata": {},
   "outputs": [
    {
     "data": {
      "text/plain": [
       "True"
      ]
     },
     "execution_count": 1,
     "metadata": {},
     "output_type": "execute_result"
    }
   ],
   "source": [
    "import cv2\n",
    "import struct\n",
    "import bitstring\n",
    "import numpy  as np\n",
    "import utils.dct_zigzag as zz\n",
    "import utils.dct_image_preparation as img\n",
    "import utils.dct_data_embedding as stego\n",
    "\n",
    "\n",
    "NUM_CHANNELS = 3\n",
    "COVER_IMAGE_FILEPATH  = \"/home/chen/dev/CV_Course/dataset/cover.jpg\" \n",
    "STEGO_IMAGE_FILEPATH  = \"./results/stego_dct.png\"\n",
    "SECRET_MESSAGE_STRING = \"Hello, Steganography!\"\n",
    "\n",
    "\n",
    "raw_cover_image = cv2.imread(COVER_IMAGE_FILEPATH, flags=cv2.IMREAD_COLOR)\n",
    "height, width   = raw_cover_image.shape[:2]\n",
    "# Force Image Dimensions to be 8x8 compliant\n",
    "while(height % 8): height += 1 # Rows\n",
    "while(width  % 8): width  += 1 # Cols\n",
    "valid_dim = (width, height)\n",
    "padded_image    = cv2.resize(raw_cover_image, valid_dim)\n",
    "cover_image_f32 = np.float32(padded_image)\n",
    "cover_image_YCC = img.YCC_Image(cv2.cvtColor(cover_image_f32, cv2.COLOR_BGR2YCrCb))\n",
    "\n",
    "# Placeholder for holding stego image data\n",
    "stego_image = np.empty_like(cover_image_f32)\n",
    "\n",
    "for chan_index in range(NUM_CHANNELS):\n",
    "    # FORWARD DCT STAGE\n",
    "    dct_blocks = [cv2.dct(block) for block in cover_image_YCC.channels[chan_index]]\n",
    "\n",
    "    # QUANTIZATION STAGE\n",
    "    dct_quants = [np.around(np.divide(item, img.JPEG_STD_LUM_QUANT_TABLE)) for item in dct_blocks]\n",
    "\n",
    "    # Sort DCT coefficients by frequency\n",
    "    sorted_coefficients = [zz.zigzag(block) for block in dct_quants]\n",
    "\n",
    "    # Embed data in Luminance layer\n",
    "    if (chan_index == 0):\n",
    "        # DATA INSERTION STAGE\n",
    "        secret_data = \"\"\n",
    "        for char in SECRET_MESSAGE_STRING.encode('ascii'): secret_data += bitstring.pack('uint:8', char)\n",
    "        embedded_dct_blocks   = stego.embed_encoded_data_into_DCT(secret_data, sorted_coefficients)\n",
    "        desorted_coefficients = [zz.inverse_zigzag(block, vmax=8,hmax=8) for block in embedded_dct_blocks]\n",
    "    else:\n",
    "        # Reorder coefficients to how they originally were\n",
    "        desorted_coefficients = [zz.inverse_zigzag(block, vmax=8,hmax=8) for block in sorted_coefficients]\n",
    "\n",
    "    # DEQUANTIZATION STAGE\n",
    "    dct_dequants = [np.multiply(data, img.JPEG_STD_LUM_QUANT_TABLE) for data in desorted_coefficients]\n",
    "\n",
    "    # Inverse DCT Stage\n",
    "    idct_blocks = [cv2.idct(block) for block in dct_dequants]\n",
    "\n",
    "    # Rebuild full image channel\n",
    "    stego_image[:,:,chan_index] = np.asarray(img.stitch_8x8_blocks_back_together(cover_image_YCC.width, idct_blocks))\n",
    "#-------------------------------------------------------------------------------------------------------------------#\n",
    "\n",
    "# Convert back to RGB (BGR) Colorspace\n",
    "stego_image_BGR = cv2.cvtColor(stego_image, cv2.COLOR_YCR_CB2BGR)\n",
    "\n",
    "# Clamp Pixel Values to [0 - 255]\n",
    "final_stego_image = np.uint8(np.clip(stego_image_BGR, 0, 255))\n",
    "\n",
    "# Write stego image\n",
    "cv2.imwrite(STEGO_IMAGE_FILEPATH, final_stego_image)\n"
   ]
  },
  {
   "cell_type": "code",
   "execution_count": 2,
   "metadata": {},
   "outputs": [
    {
     "name": "stdout",
     "output_type": "stream",
     "text": [
      "Hello, Steganography!\n"
     ]
    }
   ],
   "source": [
    "\n",
    "import cv2\n",
    "import struct\n",
    "import numpy  as np\n",
    "import cv2\n",
    "import struct\n",
    "import bitstring\n",
    "import numpy  as np\n",
    "import utils.dct_zigzag as zz\n",
    "import utils.dct_image_preparation as img\n",
    "import utils.dct_data_embedding as stego\n",
    "\n",
    "stego_image     = cv2.imread(STEGO_IMAGE_FILEPATH, flags=cv2.IMREAD_COLOR)\n",
    "stego_image_f32 = np.float32(stego_image)\n",
    "stego_image_YCC = img.YCC_Image(cv2.cvtColor(stego_image_f32, cv2.COLOR_BGR2YCrCb))\n",
    "\n",
    "# FORWARD DCT STAGE\n",
    "dct_blocks = [cv2.dct(block) for block in stego_image_YCC.channels[0]]  # Only care about Luminance layer\n",
    "\n",
    "# QUANTIZATION STAGE\n",
    "dct_quants = [np.around(np.divide(item, img.JPEG_STD_LUM_QUANT_TABLE)) for item in dct_blocks]\n",
    "\n",
    "# Sort DCT coefficients by frequency\n",
    "sorted_coefficients = [zz.zigzag(block) for block in dct_quants]\n",
    "\n",
    "# DATA EXTRACTION STAGE\n",
    "recovered_data = stego.extract_encoded_data_from_DCT(sorted_coefficients)\n",
    "recovered_data.pos = 0\n",
    "\n",
    "# Determine length of secret message\n",
    "data_len = int(recovered_data.read('uint:32') / 8)\n",
    "\n",
    "# Extract secret message from DCT coefficients\n",
    "extracted_data = bytes()\n",
    "for _ in range(data_len): extracted_data += struct.pack('>B', recovered_data.read('uint:8'))\n",
    "\n",
    "# Print secret message back to the user\n",
    "print(extracted_data.decode('ascii'))"
   ]
  }
 ],
 "metadata": {
  "kernelspec": {
   "display_name": "Python 3",
   "language": "python",
   "name": "python3"
  },
  "language_info": {
   "codemirror_mode": {
    "name": "ipython",
    "version": 3
   },
   "file_extension": ".py",
   "mimetype": "text/x-python",
   "name": "python",
   "nbconvert_exporter": "python",
   "pygments_lexer": "ipython3",
   "version": "3.10.12"
  }
 },
 "nbformat": 4,
 "nbformat_minor": 2
}
