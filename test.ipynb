{
 "cells": [
  {
   "cell_type": "code",
   "execution_count": 1,
   "metadata": {},
   "outputs": [
    {
     "name": "stdout",
     "output_type": "stream",
     "text": [
      "PSNR between cover and stego image: 41.483906082005504 dB\n",
      "SSIM between cover and stego image: 0.9728985347393174\n"
     ]
    }
   ],
   "source": [
    "import math\n",
    "from PIL import Image\n",
    "from skimage.metrics import structural_similarity as ssim\n",
    "import numpy as np\n",
    "\n",
    "\n",
    "def psnr(img1, img2):\n",
    "    \"\"\"to caculate PSNR\"\"\"\n",
    "    mse = np.mean((np.array(img1) - np.array(img2)) ** 2)\n",
    "    if mse == 0:\n",
    "        return float('inf')  # means the images are same\n",
    "    max_pixel = 255.0\n",
    "    return 20 * math.log10(max_pixel / math.sqrt(mse))\n",
    "\n",
    "def compare_images(cover_path, stego_path):\n",
    "    cover_image = Image.open(cover_path)\n",
    "    stego_image = Image.open(stego_path)\n",
    "\n",
    "    # Resize images to the same dimensions\n",
    "    cover_image = cover_image.resize((min(cover_image.size[0], stego_image.size[0]), \n",
    "                                      min(cover_image.size[1], stego_image.size[1])))\n",
    "    stego_image = stego_image.resize((min(cover_image.size[0], stego_image.size[0]), \n",
    "                                      min(cover_image.size[1], stego_image.size[1])))\n",
    "\n",
    "    # cal PSNR\n",
    "    psnr_value = psnr(cover_image, stego_image)\n",
    "    print(f\"PSNR between cover and stego image: {psnr_value} dB\")\n",
    "\n",
    "    # cal SSIM\n",
    "    cover_array = np.array(cover_image.convert('RGB'))\n",
    "    stego_array = np.array(stego_image.convert('RGB'))\n",
    "    \n",
    "    ssim_value = ssim(cover_array, stego_array, multichannel=True, win_size=3)\n",
    "    print(f\"SSIM between cover and stego image: {ssim_value}\")\n",
    "\n",
    "# example\n",
    "cover_path = \"./dataset/cover.jpg\"  # cover image path\n",
    "stego_path = \"./results/stego_fft_qr.png\"  # stego image path\n",
    "\n",
    "# compare images between cover and stego\n",
    "compare_images(cover_path, stego_path)\n"
   ]
  },
  {
   "cell_type": "code",
   "execution_count": null,
   "metadata": {},
   "outputs": [],
   "source": []
  }
 ],
 "metadata": {
  "kernelspec": {
   "display_name": "Python 3",
   "language": "python",
   "name": "python3"
  },
  "language_info": {
   "codemirror_mode": {
    "name": "ipython",
    "version": 3
   },
   "file_extension": ".py",
   "mimetype": "text/x-python",
   "name": "python",
   "nbconvert_exporter": "python",
   "pygments_lexer": "ipython3",
   "version": "3.10.12"
  }
 },
 "nbformat": 4,
 "nbformat_minor": 2
}
