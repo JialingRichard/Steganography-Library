{
 "cells": [
  {
   "cell_type": "code",
   "execution_count": 2,
   "metadata": {},
   "outputs": [
    {
     "name": "stdout",
     "output_type": "stream",
     "text": [
      "Text hidden successfully!\n",
      "Hello, Steganography!\n"
     ]
    }
   ],
   "source": [
    "import cv2\n",
    "import numpy as np\n",
    "\n",
    "def text_to_binary(text):\n",
    "    return ''.join(format(ord(char), '08b') for char in text) + '1111111111111110'  # 结束标志\n",
    "\n",
    "def binary_to_text(binary):\n",
    "    chars = [binary[i:i+8] for i in range(0, len(binary), 8)]\n",
    "    return ''.join(chr(int(char, 2)) for char in chars if int(char, 2) != 0)\n",
    "\n",
    "def hide_text(cover_path, text, stego_path):\n",
    "    cover = cv2.imread(cover_path)\n",
    "    binary_text = text_to_binary(text)\n",
    "    data_index = 0\n",
    "    data_length = len(binary_text)\n",
    "    \n",
    "    for row in cover:\n",
    "        for pixel in row:\n",
    "            for channel in range(3):\n",
    "                if data_index < data_length:\n",
    "                    pixel[channel] = (pixel[channel] & 0xFE) | int(binary_text[data_index])\n",
    "                    data_index += 1\n",
    "                else:\n",
    "                    break\n",
    "    cv2.imwrite(stego_path, cover)\n",
    "    print(\"Text hidden successfully!\")\n",
    "\n",
    "def extract_text(stego_path):\n",
    "    stego = cv2.imread(stego_path)\n",
    "    binary_text = ''\n",
    "    \n",
    "    for row in stego:\n",
    "        for pixel in row:\n",
    "            for channel in range(3):\n",
    "                binary_text += str(pixel[channel] & 1)\n",
    "                if binary_text[-16:] == '1111111111111110':  # 结束标志\n",
    "                    return binary_to_text(binary_text[:-16])\n",
    "    return \"Message not found\"\n",
    "\n",
    "# 示例用法\n",
    "hide_text('./dataset/cover.jpg', 'Hello, Steganography!', './results/stego.png')\n",
    "print(extract_text('./results/stego.png'))"
   ]
  },
  {
   "cell_type": "code",
   "execution_count": 1,
   "metadata": {},
   "outputs": [
    {
     "name": "stdout",
     "output_type": "stream",
     "text": [
      "PSNR between cover and stego image: 101.34652215750518 dB\n",
      "SSIM between cover and stego image: 0.9999999923938419\n"
     ]
    }
   ],
   "source": [
    "import math\n",
    "from PIL import Image\n",
    "from skimage.metrics import structural_similarity as ssim\n",
    "import numpy as np\n",
    "\n",
    "\n",
    "def psnr(img1, img2):\n",
    "    \"\"\"计算两个图像之间的 PSNR\"\"\"\n",
    "    mse = np.mean((np.array(img1) - np.array(img2)) ** 2)\n",
    "    if mse == 0:\n",
    "        return float('inf')  # 完全相同的图像\n",
    "    max_pixel = 255.0\n",
    "    return 20 * math.log10(max_pixel / math.sqrt(mse))\n",
    "\n",
    "def compare_images(cover_path, stego_path):\n",
    "    \"\"\"对比原始图像和隐藏图像之间的差异\"\"\"\n",
    "    \n",
    "    cover_image = Image.open(cover_path)\n",
    "    stego_image = Image.open(stego_path)\n",
    "\n",
    "    # 计算 PSNR\n",
    "    psnr_value = psnr(cover_image, stego_image)\n",
    "    print(f\"PSNR between cover and stego image: {psnr_value} dB\")\n",
    "\n",
    "    # 计算 SSIM\n",
    "    cover_array = np.array(cover_image.convert('RGB'))\n",
    "    stego_array = np.array(stego_image.convert('RGB'))\n",
    "    \n",
    "    ssim_value = ssim(cover_array, stego_array, multichannel=True, win_size=3)\n",
    "    print(f\"SSIM between cover and stego image: {ssim_value}\")\n",
    "\n",
    "# 示例用法\n",
    "cover_path = \"./dataset/cover.jpg\"  # 载体图像路径\n",
    "stego_path = \"./results/stego.png\"  # 隐藏图像路径\n",
    "\n",
    "# 对比原始图像和隐藏图像\n",
    "compare_images(cover_path, stego_path)\n"
   ]
  },
  {
   "cell_type": "code",
   "execution_count": null,
   "metadata": {},
   "outputs": [],
   "source": []
  }
 ],
 "metadata": {
  "kernelspec": {
   "display_name": "Python 3",
   "language": "python",
   "name": "python3"
  },
  "language_info": {
   "codemirror_mode": {
    "name": "ipython",
    "version": 3
   },
   "file_extension": ".py",
   "mimetype": "text/x-python",
   "name": "python",
   "nbconvert_exporter": "python",
   "pygments_lexer": "ipython3",
   "version": "3.10.12"
  }
 },
 "nbformat": 4,
 "nbformat_minor": 2
}
