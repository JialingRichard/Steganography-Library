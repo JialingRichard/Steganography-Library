{
 "cells": [
  {
   "cell_type": "code",
   "execution_count": null,
   "metadata": {},
   "outputs": [],
   "source": [
    "from PIL import Image\n",
    "import numpy as np\n",
    "import math\n",
    "from skimage.metrics import structural_similarity as ssim\n",
    "from test_file.lsb import LSBSteganography\n",
    "\n",
    "# File paths\n",
    "cover_path = \"./dataset/cover.jpg\"  # Path to the cover image\n",
    "secret_path = \"./dataset/qrcode_h.png\"  # Path to the secret image\n",
    "stego_path = \"./results/stego_lsb_qr_n.png\"  # Path to the stego image (after embedding)\n",
    "extracted_path = \"./results/extracted_lsb_qr.png\"  # Path to the extracted secret image\n",
    "\n",
    "# Create an LSB steganography object\n",
    "stego = LSBSteganography(bits_to_hide=1)  \n",
    "\n",
    "# Encode (hide) the secret image inside the cover image\n",
    "stego.encode(cover_path, secret_path, stego_path)\n",
    "\n",
    "# Decode (extract) the secret image from the stego image\n",
    "secret_width, secret_height = Image.open(secret_path).size\n",
    "stego.decode(stego_path, extracted_path, secret_width, secret_height)\n",
    "\n",
    "\n",
    "def psnr(img1, img2):\n",
    "    \"\"\"Calculate PSNR (Peak Signal-to-Noise Ratio) between two images\"\"\"\n",
    "    mse = np.mean((np.array(img1) - np.array(img2)) ** 2)\n",
    "    if mse == 0:\n",
    "        return float('inf')  # Return infinity if images are identical\n",
    "    max_pixel = 255.0\n",
    "    return 20 * math.log10(max_pixel / math.sqrt(mse))\n",
    "\n",
    "\n",
    "def compare_images(cover_path, stego_path):\n",
    "    \"\"\"Compare the cover image and the stego image\"\"\"\n",
    "    \n",
    "    cover_image = Image.open(cover_path)\n",
    "    stego_image = Image.open(stego_path)\n",
    "\n",
    "    # Compute PSNR\n",
    "    psnr_value = psnr(cover_image, stego_image)\n",
    "    print(f\"PSNR between cover and stego image: {psnr_value} dB\")\n",
    "\n",
    "    # Compute SSIM\n",
    "    cover_array = np.array(cover_image.convert('RGB'))\n",
    "    stego_array = np.array(stego_image.convert('RGB'))\n",
    "    \n",
    "    ssim_value = ssim(cover_array, stego_array, multichannel=True, win_size=3)\n",
    "    print(f\"SSIM between cover and stego image: {ssim_value}\")\n",
    "\n",
    "\n",
    "# Example usage\n",
    "cover_path = \"./dataset/cover.jpg\"  # Path to the cover image\n",
    "stego_path = \"./results/stego_lsb_qr.png\"  # Path to the stego image\n",
    "\n",
    "# Compare the original cover image and the stego image\n",
    "compare_images(cover_path, stego_path)\n"
   ]
  },
  {
   "cell_type": "code",
   "execution_count": null,
   "metadata": {},
   "outputs": [],
   "source": []
  }
 ],
 "metadata": {
  "kernelspec": {
   "display_name": "Python 3",
   "language": "python",
   "name": "python3"
  },
  "language_info": {
   "codemirror_mode": {
    "name": "ipython",
    "version": 3
   },
   "file_extension": ".py",
   "mimetype": "text/x-python",
   "name": "python",
   "nbconvert_exporter": "python",
   "pygments_lexer": "ipython3",
   "version": "3.10.12"
  }
 },
 "nbformat": 4,
 "nbformat_minor": 2
}
