{
 "cells": [
  {
   "cell_type": "code",
   "execution_count": null,
   "metadata": {},
   "outputs": [
    {
     "ename": "FileNotFoundError",
     "evalue": "[Errno 2] No such file or directory: '/home/chen/dev/CV_Course/dataset/qrcode_h_n.png'",
     "output_type": "error",
     "traceback": [
      "\u001b[0;31m---------------------------------------------------------------------------\u001b[0m",
      "\u001b[0;31mFileNotFoundError\u001b[0m                         Traceback (most recent call last)",
      "Cell \u001b[0;32mIn[1], line 17\u001b[0m\n\u001b[1;32m     14\u001b[0m stego \u001b[38;5;241m=\u001b[39m LSBSteganography(bits_to_hide\u001b[38;5;241m=\u001b[39m\u001b[38;5;241m1\u001b[39m)  \n\u001b[1;32m     16\u001b[0m \u001b[38;5;66;03m# Encode (hide) the secret image inside the cover image\u001b[39;00m\n\u001b[0;32m---> 17\u001b[0m \u001b[43mstego\u001b[49m\u001b[38;5;241;43m.\u001b[39;49m\u001b[43mencode\u001b[49m\u001b[43m(\u001b[49m\u001b[43mcover_path\u001b[49m\u001b[43m,\u001b[49m\u001b[43m \u001b[49m\u001b[43msecret_path\u001b[49m\u001b[43m,\u001b[49m\u001b[43m \u001b[49m\u001b[43mstego_path\u001b[49m\u001b[43m)\u001b[49m\n\u001b[1;32m     19\u001b[0m \u001b[38;5;66;03m# Decode (extract) the secret image from the stego image\u001b[39;00m\n\u001b[1;32m     20\u001b[0m secret_width, secret_height \u001b[38;5;241m=\u001b[39m Image\u001b[38;5;241m.\u001b[39mopen(secret_path)\u001b[38;5;241m.\u001b[39msize\n",
      "File \u001b[0;32m~/dev/CV_Course/test_file/lsb.py:17\u001b[0m, in \u001b[0;36mLSBSteganography.encode\u001b[0;34m(self, cover_path, secret_path, stego_path)\u001b[0m\n\u001b[1;32m      8\u001b[0m \u001b[38;5;250m\u001b[39m\u001b[38;5;124;03m\"\"\"\u001b[39;00m\n\u001b[1;32m      9\u001b[0m \u001b[38;5;124;03m在载体图像中隐藏秘密图像，使用多个最低有效位。\u001b[39;00m\n\u001b[1;32m     10\u001b[0m \n\u001b[0;32m   (...)\u001b[0m\n\u001b[1;32m     14\u001b[0m \u001b[38;5;124;03m    stego_path (str): 输出图像的路径。\u001b[39;00m\n\u001b[1;32m     15\u001b[0m \u001b[38;5;124;03m\"\"\"\u001b[39;00m\n\u001b[1;32m     16\u001b[0m cover_image \u001b[38;5;241m=\u001b[39m Image\u001b[38;5;241m.\u001b[39mopen(cover_path)\u001b[38;5;241m.\u001b[39mconvert(\u001b[38;5;124m'\u001b[39m\u001b[38;5;124mRGB\u001b[39m\u001b[38;5;124m'\u001b[39m)\n\u001b[0;32m---> 17\u001b[0m secret_image \u001b[38;5;241m=\u001b[39m \u001b[43mImage\u001b[49m\u001b[38;5;241;43m.\u001b[39;49m\u001b[43mopen\u001b[49m\u001b[43m(\u001b[49m\u001b[43msecret_path\u001b[49m\u001b[43m)\u001b[49m\u001b[38;5;241m.\u001b[39mconvert(\u001b[38;5;124m'\u001b[39m\u001b[38;5;124mRGB\u001b[39m\u001b[38;5;124m'\u001b[39m)\n\u001b[1;32m     19\u001b[0m cover_width, cover_height \u001b[38;5;241m=\u001b[39m cover_image\u001b[38;5;241m.\u001b[39msize\n\u001b[1;32m     20\u001b[0m secret_width, secret_height \u001b[38;5;241m=\u001b[39m secret_image\u001b[38;5;241m.\u001b[39msize\n",
      "File \u001b[0;32m~/.local/lib/python3.10/site-packages/PIL/Image.py:3431\u001b[0m, in \u001b[0;36mopen\u001b[0;34m(fp, mode, formats)\u001b[0m\n\u001b[1;32m   3428\u001b[0m     filename \u001b[38;5;241m=\u001b[39m os\u001b[38;5;241m.\u001b[39mpath\u001b[38;5;241m.\u001b[39mrealpath(os\u001b[38;5;241m.\u001b[39mfspath(fp))\n\u001b[1;32m   3430\u001b[0m \u001b[38;5;28;01mif\u001b[39;00m filename:\n\u001b[0;32m-> 3431\u001b[0m     fp \u001b[38;5;241m=\u001b[39m \u001b[43mbuiltins\u001b[49m\u001b[38;5;241;43m.\u001b[39;49m\u001b[43mopen\u001b[49m\u001b[43m(\u001b[49m\u001b[43mfilename\u001b[49m\u001b[43m,\u001b[49m\u001b[43m \u001b[49m\u001b[38;5;124;43m\"\u001b[39;49m\u001b[38;5;124;43mrb\u001b[39;49m\u001b[38;5;124;43m\"\u001b[39;49m\u001b[43m)\u001b[49m\n\u001b[1;32m   3432\u001b[0m     exclusive_fp \u001b[38;5;241m=\u001b[39m \u001b[38;5;28;01mTrue\u001b[39;00m\n\u001b[1;32m   3433\u001b[0m \u001b[38;5;28;01melse\u001b[39;00m:\n",
      "\u001b[0;31mFileNotFoundError\u001b[0m: [Errno 2] No such file or directory: '/home/chen/dev/CV_Course/dataset/qrcode_h_n.png'"
     ]
    }
   ],
   "source": [
    "from PIL import Image\n",
    "import numpy as np\n",
    "import math\n",
    "from skimage.metrics import structural_similarity as ssim\n",
    "from test_file.lsb import LSBSteganography\n",
    "\n",
    "# File paths\n",
    "cover_path = \"./dataset/cover.jpg\"  # Path to the cover image\n",
    "secret_path = \"./dataset/qrcode_h.png\"  # Path to the secret image\n",
    "stego_path = \"./results/stego_lsb_qr_n.png\"  # Path to the stego image (after embedding)\n",
    "extracted_path = \"./results/extracted_lsb_qr.png\"  # Path to the extracted secret image\n",
    "\n",
    "# Create an LSB steganography object\n",
    "stego = LSBSteganography(bits_to_hide=1)  \n",
    "\n",
    "# Encode (hide) the secret image inside the cover image\n",
    "stego.encode(cover_path, secret_path, stego_path)\n",
    "\n",
    "# Decode (extract) the secret image from the stego image\n",
    "secret_width, secret_height = Image.open(secret_path).size\n",
    "stego.decode(stego_path, extracted_path, secret_width, secret_height)\n",
    "\n",
    "\n",
    "def psnr(img1, img2):\n",
    "    \"\"\"Calculate PSNR (Peak Signal-to-Noise Ratio) between two images\"\"\"\n",
    "    mse = np.mean((np.array(img1) - np.array(img2)) ** 2)\n",
    "    if mse == 0:\n",
    "        return float('inf')  # Return infinity if images are identical\n",
    "    max_pixel = 255.0\n",
    "    return 20 * math.log10(max_pixel / math.sqrt(mse))\n",
    "\n",
    "\n",
    "def compare_images(cover_path, stego_path):\n",
    "    \"\"\"Compare the cover image and the stego image\"\"\"\n",
    "    \n",
    "    cover_image = Image.open(cover_path)\n",
    "    stego_image = Image.open(stego_path)\n",
    "\n",
    "    # Compute PSNR\n",
    "    psnr_value = psnr(cover_image, stego_image)\n",
    "    print(f\"PSNR between cover and stego image: {psnr_value} dB\")\n",
    "\n",
    "    # Compute SSIM\n",
    "    cover_array = np.array(cover_image.convert('RGB'))\n",
    "    stego_array = np.array(stego_image.convert('RGB'))\n",
    "    \n",
    "    ssim_value = ssim(cover_array, stego_array, multichannel=True, win_size=3)\n",
    "    print(f\"SSIM between cover and stego image: {ssim_value}\")\n",
    "\n",
    "\n",
    "# Example usage\n",
    "cover_path = \"./dataset/cover.jpg\"  # Path to the cover image\n",
    "stego_path = \"./results/stego_lsb_qr.png\"  # Path to the stego image\n",
    "\n",
    "# Compare the original cover image and the stego image\n",
    "compare_images(cover_path, stego_path)\n"
   ]
  },
  {
   "cell_type": "code",
   "execution_count": null,
   "metadata": {},
   "outputs": [],
   "source": []
  }
 ],
 "metadata": {
  "kernelspec": {
   "display_name": "Python 3",
   "language": "python",
   "name": "python3"
  },
  "language_info": {
   "codemirror_mode": {
    "name": "ipython",
    "version": 3
   },
   "file_extension": ".py",
   "mimetype": "text/x-python",
   "name": "python",
   "nbconvert_exporter": "python",
   "pygments_lexer": "ipython3",
   "version": "3.10.12"
  }
 },
 "nbformat": 4,
 "nbformat_minor": 2
}
